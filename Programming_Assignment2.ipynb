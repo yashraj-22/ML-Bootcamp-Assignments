{
  "nbformat": 4,
  "nbformat_minor": 0,
  "metadata": {
    "colab": {
      "provenance": [],
      "authorship_tag": "ABX9TyOhftpwcKPm66kt2cfPM48b",
      "include_colab_link": true
    },
    "kernelspec": {
      "name": "python3",
      "display_name": "Python 3"
    },
    "language_info": {
      "name": "python"
    }
  },
  "cells": [
    {
      "cell_type": "markdown",
      "metadata": {
        "id": "view-in-github",
        "colab_type": "text"
      },
      "source": [
        "<a href=\"https://colab.research.google.com/github/yashraj-22/ML-Bootcamp-Assignments/blob/main/Programming_Assignment2.ipynb\" target=\"_parent\"><img src=\"https://colab.research.google.com/assets/colab-badge.svg\" alt=\"Open In Colab\"/></a>"
      ]
    },
    {
      "cell_type": "markdown",
      "source": [
        "###1. Write a Python program to convert kilometers to miles?"
      ],
      "metadata": {
        "id": "tycLKt4hrpMy"
      }
    },
    {
      "cell_type": "code",
      "execution_count": 2,
      "metadata": {
        "colab": {
          "base_uri": "https://localhost:8080/"
        },
        "id": "XGZYA4hGrmeh",
        "outputId": "5452d81f-81ab-4cc0-f5b5-73ca4f22c2a8"
      },
      "outputs": [
        {
          "output_type": "stream",
          "name": "stdout",
          "text": [
            "Distance in miles is 34.80422622747048\n"
          ]
        }
      ],
      "source": [
        "def km_to_miles(a):   # a is in kilometres\n",
        "  b = a/1.609\n",
        "  print('Distance in miles is',b)\n",
        "\n",
        "km_to_miles(56)"
      ]
    },
    {
      "cell_type": "markdown",
      "source": [
        "###2. Write a Python program to convert Celsius to Fahrenheit?"
      ],
      "metadata": {
        "id": "ad7ZhycWsycF"
      }
    },
    {
      "cell_type": "code",
      "source": [
        "def celsius_to_fah(a):   # a is the temperature in celsius\n",
        "  b = (a*9/5) + 32\n",
        "  print(f\"Temperature in Fahrenheit is {b}\\N{DEGREE SIGN}\")\n",
        "\n",
        "celsius_to_fah(27)"
      ],
      "metadata": {
        "colab": {
          "base_uri": "https://localhost:8080/"
        },
        "id": "CMvYpjXgsqq8",
        "outputId": "545d66d6-da21-4411-a6ee-8cde0bf19d69"
      },
      "execution_count": 1,
      "outputs": [
        {
          "output_type": "stream",
          "name": "stdout",
          "text": [
            "Temperature in Fahrenheit is 80.6°\n"
          ]
        }
      ]
    },
    {
      "cell_type": "markdown",
      "source": [
        "###3. Write a Python program to display calendar?"
      ],
      "metadata": {
        "id": "FlSIhV5WuhAs"
      }
    },
    {
      "cell_type": "code",
      "source": [
        "import calendar\n",
        "\n",
        "yy = 2023\n",
        "mm = 8\n",
        "\n",
        "print(calendar.month(yy, mm))"
      ],
      "metadata": {
        "colab": {
          "base_uri": "https://localhost:8080/"
        },
        "id": "DoxfmFO_uaL5",
        "outputId": "9cc721c5-99a1-4c23-cfb4-6ea7ea284265"
      },
      "execution_count": 2,
      "outputs": [
        {
          "output_type": "stream",
          "name": "stdout",
          "text": [
            "    August 2023\n",
            "Mo Tu We Th Fr Sa Su\n",
            "    1  2  3  4  5  6\n",
            " 7  8  9 10 11 12 13\n",
            "14 15 16 17 18 19 20\n",
            "21 22 23 24 25 26 27\n",
            "28 29 30 31\n",
            "\n"
          ]
        }
      ]
    },
    {
      "cell_type": "markdown",
      "source": [
        "###4. Write a Python program to solve quadratic equation?"
      ],
      "metadata": {
        "id": "esTbxU8WvMAu"
      }
    },
    {
      "cell_type": "code",
      "source": [
        "import math\n",
        "\n",
        "def quad_solver(a,b,c):   # a & b are coefficients of x^2 & x respectively, c is the constant term.\n",
        "  # calculating discriminant using formula\n",
        "    dis = b * b - 4 * a * c\n",
        "\n",
        "    # checking condition for discriminant\n",
        "    if dis > 0:\n",
        "        print(\"real and different roots\")\n",
        "        print((-b + math.sqrt(abs(dis)))/(2 * a))\n",
        "        print((-b - math.sqrt(abs(dis)))/(2 * a))\n",
        "\n",
        "    elif dis == 0:\n",
        "        print(\"real and same roots\")\n",
        "        print(-b / (2 * a))\n",
        "\n",
        "    # when discriminant is less than 0\n",
        "    else:\n",
        "        print(\"Complex Roots\")\n",
        "        print(- b / (2 * a) + complex(math.sqrt(abs(dis))))\n",
        "        print(- b / (2 * a) - complex(math.sqrt(abs(dis))))\n",
        "\n",
        "a = 1\n",
        "b = 10\n",
        "c = -24\n",
        "\n",
        "# If a is 0, then incorrect equation\n",
        "if a == 0:\n",
        "        print(\"Input correct quadratic equation\")\n",
        "\n",
        "else:\n",
        "    quad_solver(a, b, c)"
      ],
      "metadata": {
        "colab": {
          "base_uri": "https://localhost:8080/"
        },
        "id": "aEJenVTlvCZD",
        "outputId": "64f24ea1-3600-43ae-fd2e-090f60e2d1fe"
      },
      "execution_count": 3,
      "outputs": [
        {
          "output_type": "stream",
          "name": "stdout",
          "text": [
            "real and different roots\n",
            "2.0\n",
            "-12.0\n"
          ]
        }
      ]
    },
    {
      "cell_type": "markdown",
      "source": [
        "###5. Write a Python program to swap two variables without temp variable?"
      ],
      "metadata": {
        "id": "QnXZVJGX8O8o"
      }
    },
    {
      "cell_type": "code",
      "source": [
        "x = 5\n",
        "y = 7\n",
        "\n",
        "x, y = y, x\n",
        "\n",
        "print (\"After swapping: \")\n",
        "print(\"Value of x : \", x, \" and y : \", y)"
      ],
      "metadata": {
        "colab": {
          "base_uri": "https://localhost:8080/"
        },
        "id": "sOGbN8fa7_4H",
        "outputId": "8e2252ec-0de1-4b97-fe84-5df0446bb2f7"
      },
      "execution_count": 4,
      "outputs": [
        {
          "output_type": "stream",
          "name": "stdout",
          "text": [
            "After swapping: \n",
            "Value of x :  7  and y :  5\n"
          ]
        }
      ]
    }
  ]
}