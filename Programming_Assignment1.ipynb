{
  "nbformat": 4,
  "nbformat_minor": 0,
  "metadata": {
    "colab": {
      "provenance": [],
      "authorship_tag": "ABX9TyPqROC4KKF5v68mSJFwu9d1",
      "include_colab_link": true
    },
    "kernelspec": {
      "name": "python3",
      "display_name": "Python 3"
    },
    "language_info": {
      "name": "python"
    }
  },
  "cells": [
    {
      "cell_type": "markdown",
      "metadata": {
        "id": "view-in-github",
        "colab_type": "text"
      },
      "source": [
        "<a href=\"https://colab.research.google.com/github/yashraj-22/ML-Bootcamp-Assignments/blob/main/Programming_Assignment1.ipynb\" target=\"_parent\"><img src=\"https://colab.research.google.com/assets/colab-badge.svg\" alt=\"Open In Colab\"/></a>"
      ]
    },
    {
      "cell_type": "markdown",
      "source": [
        "###1. Write a Python program to print \"Hello Python\"?"
      ],
      "metadata": {
        "id": "41jQcvffj8vc"
      }
    },
    {
      "cell_type": "code",
      "execution_count": 1,
      "metadata": {
        "colab": {
          "base_uri": "https://localhost:8080/"
        },
        "id": "L59e6OF1j6LC",
        "outputId": "21781a07-1347-479e-e80d-00ee10258cc8"
      },
      "outputs": [
        {
          "output_type": "stream",
          "name": "stdout",
          "text": [
            "Hello Python\n"
          ]
        }
      ],
      "source": [
        "print('Hello Python')"
      ]
    },
    {
      "cell_type": "markdown",
      "source": [
        "###2. Write a Python program to do arithmetical operations addition and division?"
      ],
      "metadata": {
        "id": "pNBcGJ-PkV38"
      }
    },
    {
      "cell_type": "code",
      "source": [
        "a = 4\n",
        "b = 2\n",
        "add = a+b\n",
        "div = a/b\n",
        "print('a + b =',add)\n",
        "print('a/b =',div)"
      ],
      "metadata": {
        "colab": {
          "base_uri": "https://localhost:8080/"
        },
        "id": "QXOUk9NXkajS",
        "outputId": "46a6204e-4d6f-4f8e-bc8f-1df35a5a0089"
      },
      "execution_count": 5,
      "outputs": [
        {
          "output_type": "stream",
          "name": "stdout",
          "text": [
            "a + b = 6\n",
            "a/b = 2.0\n"
          ]
        }
      ]
    },
    {
      "cell_type": "markdown",
      "source": [
        "###3. Write a Python program to find the area of a triangle?"
      ],
      "metadata": {
        "id": "7ifMMg1klWWv"
      }
    },
    {
      "cell_type": "code",
      "source": [
        "base = 4\n",
        "height = 5\n",
        "area = (base*height)/2\n",
        "print('Area of triangle =',area)"
      ],
      "metadata": {
        "colab": {
          "base_uri": "https://localhost:8080/"
        },
        "id": "FRNjV1LqlEO7",
        "outputId": "670630f9-7986-423c-945a-b6413bf39998"
      },
      "execution_count": 9,
      "outputs": [
        {
          "output_type": "stream",
          "name": "stdout",
          "text": [
            "Area of triangle = 10.0\n"
          ]
        }
      ]
    },
    {
      "cell_type": "markdown",
      "source": [
        "###4. Write a Python program to swap two variables?"
      ],
      "metadata": {
        "id": "rBje-dfBmAS-"
      }
    },
    {
      "cell_type": "code",
      "source": [
        "x = 5\n",
        "y = 10\n",
        "\n",
        "z = x\n",
        "x = y\n",
        "y = z\n",
        "\n",
        "print('The value of x after swapping: {}'.format(x))\n",
        "print('The value of y after swapping: {}'.format(y))"
      ],
      "metadata": {
        "colab": {
          "base_uri": "https://localhost:8080/"
        },
        "id": "lhxj3HVul62S",
        "outputId": "126da71d-b182-43a2-c1f8-71832b54ca46"
      },
      "execution_count": 7,
      "outputs": [
        {
          "output_type": "stream",
          "name": "stdout",
          "text": [
            "The value of x after swapping: 10\n",
            "The value of y after swapping: 5\n"
          ]
        }
      ]
    },
    {
      "cell_type": "markdown",
      "source": [
        "###5. Write a Python program to generate a random number?"
      ],
      "metadata": {
        "id": "RTspWK62nbqm"
      }
    },
    {
      "cell_type": "code",
      "source": [
        "import random\n",
        "n = random.random()\n",
        "print(n)"
      ],
      "metadata": {
        "colab": {
          "base_uri": "https://localhost:8080/"
        },
        "id": "dxo5nP5Zmyog",
        "outputId": "0057fa02-dd0c-4846-a802-1c5a43278d0f"
      },
      "execution_count": 13,
      "outputs": [
        {
          "output_type": "stream",
          "name": "stdout",
          "text": [
            "0.8323865969083939\n"
          ]
        }
      ]
    }
  ]
}