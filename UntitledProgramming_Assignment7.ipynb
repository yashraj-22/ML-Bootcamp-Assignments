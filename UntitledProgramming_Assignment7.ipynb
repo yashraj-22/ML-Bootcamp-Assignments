{
  "nbformat": 4,
  "nbformat_minor": 0,
  "metadata": {
    "colab": {
      "provenance": [],
      "authorship_tag": "ABX9TyP5rQ8kUNRrwBr1bjkZD8L1",
      "include_colab_link": true
    },
    "kernelspec": {
      "name": "python3",
      "display_name": "Python 3"
    },
    "language_info": {
      "name": "python"
    }
  },
  "cells": [
    {
      "cell_type": "markdown",
      "metadata": {
        "id": "view-in-github",
        "colab_type": "text"
      },
      "source": [
        "<a href=\"https://colab.research.google.com/github/yashraj-22/ML-Bootcamp-Assignments/blob/main/UntitledProgramming_Assignment7.ipynb\" target=\"_parent\"><img src=\"https://colab.research.google.com/assets/colab-badge.svg\" alt=\"Open In Colab\"/></a>"
      ]
    },
    {
      "cell_type": "markdown",
      "source": [
        "###1. Write a Python Program to find sum of array?"
      ],
      "metadata": {
        "id": "tHokr2E8HDJx"
      }
    },
    {
      "cell_type": "code",
      "source": [
        "import numpy as np\n",
        "\n",
        "arr = np.array([[1,2,3],[4,5,6],[7,8,9]])\n",
        "a,b = arr.shape\n",
        "sum = 0\n",
        "for i in range(a):\n",
        "  for j in range(b):\n",
        "    sum += arr[i][j]\n",
        "print('Sum of array is',sum)"
      ],
      "metadata": {
        "colab": {
          "base_uri": "https://localhost:8080/"
        },
        "id": "MdzV5WejHHvZ",
        "outputId": "dfba5ef2-c1e0-4a35-a42e-8cb719946f44"
      },
      "execution_count": 10,
      "outputs": [
        {
          "output_type": "stream",
          "name": "stdout",
          "text": [
            "Sum of array is 45\n"
          ]
        }
      ]
    },
    {
      "cell_type": "markdown",
      "source": [
        "###2. Write a Python Program to find largest element in an array?"
      ],
      "metadata": {
        "id": "b8nT4SZKlU5l"
      }
    },
    {
      "cell_type": "code",
      "source": [
        "import numpy as np\n",
        "\n",
        "arr = np.array([[12,5,49],[46,98,34],[16,43,64]])\n",
        "l = arr.flatten()\n",
        "print(max(l))"
      ],
      "metadata": {
        "colab": {
          "base_uri": "https://localhost:8080/"
        },
        "id": "G5IO9hZHJD0d",
        "outputId": "164a815e-26b6-49aa-b105-ae80a1d8c897"
      },
      "execution_count": 2,
      "outputs": [
        {
          "output_type": "stream",
          "name": "stdout",
          "text": [
            "98\n"
          ]
        }
      ]
    },
    {
      "cell_type": "markdown",
      "source": [
        "###4. Write a Python Program to Split the array and add the first part to the end?"
      ],
      "metadata": {
        "id": "mytwZSnvn9y2"
      }
    },
    {
      "cell_type": "code",
      "source": [
        "arr = [10,5,9,41,65,12,34]\n",
        "\n",
        "n = len(arr)\n",
        "k = 2        #position from which we want to split the array\n",
        "\n",
        "for i in range(0, k):\n",
        "        x = arr[0]\n",
        "        for j in range(0, n-1):\n",
        "            arr[j] = arr[j + 1]\n",
        "\n",
        "        arr[n-1] = x\n",
        "\n",
        "print(arr)"
      ],
      "metadata": {
        "colab": {
          "base_uri": "https://localhost:8080/"
        },
        "id": "qj69TuyQn07l",
        "outputId": "bdf79f4f-48ae-4f36-a42d-2528a99a030c"
      },
      "execution_count": 4,
      "outputs": [
        {
          "output_type": "stream",
          "name": "stdout",
          "text": [
            "[9, 41, 65, 12, 34, 10, 5]\n"
          ]
        }
      ]
    },
    {
      "cell_type": "markdown",
      "source": [
        "###5. Write a Python Program to check if given array is Monotonic?"
      ],
      "metadata": {
        "id": "y5roMxT7x8-g"
      }
    },
    {
      "cell_type": "code",
      "source": [
        "def check(arr):\n",
        "    N = len(arr)\n",
        "    inc = True\n",
        "    dec = True\n",
        "\n",
        "    # Loop to check if array is increasing\n",
        "    for i in range(0, N-1):\n",
        "\n",
        "        # To check if array is not increasing\n",
        "        if arr[i] > arr[i+1]:\n",
        "            inc = False\n",
        "\n",
        "    # Loop to check if array is decreasing\n",
        "    for i in range(0, N-1):\n",
        "\n",
        "       # To check if array is not decreasing\n",
        "        if arr[i] < arr[i+1]:\n",
        "            dec = False\n",
        "\n",
        "    # Pick one whether inc or dec\n",
        "    return inc or dec\n",
        "\n",
        "arr = [1, 2, 3, 3]\n",
        "ans = check(arr)\n",
        "if ans == True:\n",
        "    print(\"The array is monotonic\")\n",
        "else:\n",
        "    print(\"The array is not monotonic\")"
      ],
      "metadata": {
        "colab": {
          "base_uri": "https://localhost:8080/"
        },
        "id": "0udRY2W1xjy9",
        "outputId": "911fd072-ae18-4e06-d0bf-fd2312e6d3c9"
      },
      "execution_count": 7,
      "outputs": [
        {
          "output_type": "stream",
          "name": "stdout",
          "text": [
            "The array is monotonic\n"
          ]
        }
      ]
    }
  ]
}