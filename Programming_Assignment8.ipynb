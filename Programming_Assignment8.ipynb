{
  "nbformat": 4,
  "nbformat_minor": 0,
  "metadata": {
    "colab": {
      "provenance": [],
      "authorship_tag": "ABX9TyMPfJv6ZDqhZ/SNJA5EQ7L+",
      "include_colab_link": true
    },
    "kernelspec": {
      "name": "python3",
      "display_name": "Python 3"
    },
    "language_info": {
      "name": "python"
    }
  },
  "cells": [
    {
      "cell_type": "markdown",
      "metadata": {
        "id": "view-in-github",
        "colab_type": "text"
      },
      "source": [
        "<a href=\"https://colab.research.google.com/github/yashraj-22/ML-Bootcamp-Assignments/blob/main/Programming_Assignment8.ipynb\" target=\"_parent\"><img src=\"https://colab.research.google.com/assets/colab-badge.svg\" alt=\"Open In Colab\"/></a>"
      ]
    },
    {
      "cell_type": "markdown",
      "source": [
        "###1. Write a Python Program to Add Two Matrices?"
      ],
      "metadata": {
        "id": "uNiiPE3h22B7"
      }
    },
    {
      "cell_type": "code",
      "source": [
        "import numpy as np\n",
        "\n",
        "a = np.array([[1,2,3],[4,5,6],[7,8,9]])\n",
        "b = np.array([[4,5,6],[7,8,9],[1,2,3]])\n",
        "c = a + b\n",
        "print(c)"
      ],
      "metadata": {
        "colab": {
          "base_uri": "https://localhost:8080/"
        },
        "id": "I5Ywm-zR3BwM",
        "outputId": "95a0eeb3-aa74-4350-b65b-1e3afe7520a1"
      },
      "execution_count": 8,
      "outputs": [
        {
          "output_type": "stream",
          "name": "stdout",
          "text": [
            "[[ 5  7  9]\n",
            " [11 13 15]\n",
            " [ 8 10 12]]\n"
          ]
        }
      ]
    },
    {
      "cell_type": "markdown",
      "source": [
        "###2. Write a Python Program to Multiply Two Matrices?"
      ],
      "metadata": {
        "id": "ayAZUe1r5LpX"
      }
    },
    {
      "cell_type": "code",
      "source": [
        "import numpy as np\n",
        "\n",
        "a = np.array([[1,2,3],[4,5,6],[7,8,9]])\n",
        "b = np.array([[4,5,6],[7,8,9],[1,2,3]])\n",
        "result = np.array([[0,0,0],[0,0,0],[0,0,0]])\n",
        "# iterate through rows of a\n",
        "for i in range(len(a)):\n",
        "   # iterate through columns of b\n",
        "   for j in range(len(b[0])):\n",
        "       # iterate through rows of b\n",
        "       for k in range(len(b)):\n",
        "           result[i][j] += a[i][k] * b[k][j]\n",
        "print(result)"
      ],
      "metadata": {
        "colab": {
          "base_uri": "https://localhost:8080/"
        },
        "id": "Rqq7GuBy5G2t",
        "outputId": "cefe84bb-0fcb-4397-edae-68c00dd9923e"
      },
      "execution_count": 1,
      "outputs": [
        {
          "output_type": "stream",
          "name": "stdout",
          "text": [
            "[[ 21  27  33]\n",
            " [ 57  72  87]\n",
            " [ 93 117 141]]\n"
          ]
        }
      ]
    },
    {
      "cell_type": "markdown",
      "source": [
        "###3. Write a Python Program to Transpose a Matrix?"
      ],
      "metadata": {
        "id": "ri5gRofY4Yg7"
      }
    },
    {
      "cell_type": "code",
      "source": [
        "import numpy as np\n",
        "\n",
        "a = np.array([[1,2,3,2],[4,5,6,2],[7,8,9,2]])\n",
        "result = np.array([[0,0,0],[0,0,0],[0,0,0],[0,0,0]])\n",
        "\n",
        "for i in range(len(a)):\n",
        "  for j in range(len(a[0])):\n",
        "    result[j][i] = a[i][j]\n",
        "\n",
        "print(result)"
      ],
      "metadata": {
        "colab": {
          "base_uri": "https://localhost:8080/"
        },
        "id": "yDGOm4Zz5fgB",
        "outputId": "77d4660d-5b29-4837-af2b-a186bf7429c8"
      },
      "execution_count": 28,
      "outputs": [
        {
          "output_type": "stream",
          "name": "stdout",
          "text": [
            "[[1 4 7]\n",
            " [2 5 8]\n",
            " [3 6 9]\n",
            " [2 2 2]]\n"
          ]
        }
      ]
    },
    {
      "cell_type": "markdown",
      "source": [
        "###4. Write a Python Program to Sort Words in Alphabetic Order?"
      ],
      "metadata": {
        "id": "vWsKOf8-IAT1"
      }
    },
    {
      "cell_type": "code",
      "source": [
        "list_of_words = ['d','f','a','z','q','l','c','m','i','g']\n",
        "n = len(list_of_words)\n",
        "\n",
        "for i in range(n-1):\n",
        "  for j in range(i+1, n):\n",
        "    if ord(list_of_words[i]) > ord(list_of_words[j]):\n",
        "      list_of_words[i], list_of_words[j] = list_of_words[j], list_of_words[i]\n",
        "\n",
        "print(list_of_words)"
      ],
      "metadata": {
        "colab": {
          "base_uri": "https://localhost:8080/"
        },
        "id": "D2Y71todB7zR",
        "outputId": "f6ea01dd-a3f3-4aa7-ca29-ab51131bec25"
      },
      "execution_count": 33,
      "outputs": [
        {
          "output_type": "stream",
          "name": "stdout",
          "text": [
            "['a', 'c', 'd', 'f', 'g', 'i', 'l', 'm', 'q', 'z']\n"
          ]
        }
      ]
    },
    {
      "cell_type": "markdown",
      "source": [
        "###5. Write a Python Program to Remove Punctuation From a String?"
      ],
      "metadata": {
        "id": "6pkjOMsbMzDK"
      }
    },
    {
      "cell_type": "code",
      "source": [
        "import string\n",
        "\n",
        "str_ = \"Hello! I'm learning ML from iNeuron.\"\n",
        "\n",
        "for i in string.punctuation:\n",
        "  str_ = str_.replace(i,\"\")\n",
        "\n",
        "print(str_)"
      ],
      "metadata": {
        "colab": {
          "base_uri": "https://localhost:8080/"
        },
        "id": "f9Z-bs-JMu9J",
        "outputId": "327afb4e-636d-4f37-8c0a-8f58a19d86df"
      },
      "execution_count": 35,
      "outputs": [
        {
          "output_type": "stream",
          "name": "stdout",
          "text": [
            "Hello Im learning ML from iNeuron\n"
          ]
        }
      ]
    }
  ]
}