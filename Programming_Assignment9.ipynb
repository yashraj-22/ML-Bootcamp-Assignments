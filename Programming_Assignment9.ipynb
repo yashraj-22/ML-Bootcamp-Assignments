{
  "nbformat": 4,
  "nbformat_minor": 0,
  "metadata": {
    "colab": {
      "provenance": [],
      "authorship_tag": "ABX9TyMWaHjz+FEzlsoqF3Sh8tTQ",
      "include_colab_link": true
    },
    "kernelspec": {
      "name": "python3",
      "display_name": "Python 3"
    },
    "language_info": {
      "name": "python"
    }
  },
  "cells": [
    {
      "cell_type": "markdown",
      "metadata": {
        "id": "view-in-github",
        "colab_type": "text"
      },
      "source": [
        "<a href=\"https://colab.research.google.com/github/yashraj-22/ML-Bootcamp-Assignments/blob/main/Programming_Assignment9.ipynb\" target=\"_parent\"><img src=\"https://colab.research.google.com/assets/colab-badge.svg\" alt=\"Open In Colab\"/></a>"
      ]
    },
    {
      "cell_type": "markdown",
      "source": [
        "###1. Write a Python program to check if the given number is a Disarium Number?"
      ],
      "metadata": {
        "id": "t1boDG1CSV2s"
      }
    },
    {
      "cell_type": "code",
      "source": [
        "def check_disarium(num):\n",
        "  list_ = list(map(int, str(num)))\n",
        "  n = len(list_)\n",
        "\n",
        "  res = 0\n",
        "\n",
        "  for i in range(n):\n",
        "    res += list_[i]**(i + 1)\n",
        "\n",
        "  if res == num:\n",
        "    print('The number is a disarium number.')\n",
        "  else:\n",
        "    print('The number is not a disarium number.')\n",
        "\n",
        "check_disarium(175)"
      ],
      "metadata": {
        "colab": {
          "base_uri": "https://localhost:8080/"
        },
        "id": "sEQ6MOFvSbQH",
        "outputId": "63bcb4f7-3634-4ea9-dfc1-a4520319cdfe"
      },
      "execution_count": null,
      "outputs": [
        {
          "output_type": "stream",
          "name": "stdout",
          "text": [
            "The number is a disarium number.\n"
          ]
        }
      ]
    },
    {
      "cell_type": "markdown",
      "source": [
        "###2. Write a Python program to print all disarium numbers between 1 to 100?"
      ],
      "metadata": {
        "id": "r_dQ8BhJVO-e"
      }
    },
    {
      "cell_type": "code",
      "source": [
        "def print_disarium(lower, upper):\n",
        "  list_1 = []\n",
        "  for num in range(lower, upper+1):\n",
        "    list_ = list(map(int, str(num)))\n",
        "    n = len(list_)\n",
        "\n",
        "    res = 0\n",
        "\n",
        "    for i in range(n):\n",
        "      res += list_[i]**(i + 1)\n",
        "\n",
        "    if res == num:\n",
        "      list_1.append(num)\n",
        "\n",
        "  return list_1\n",
        "\n",
        "print_disarium(1,100)"
      ],
      "metadata": {
        "colab": {
          "base_uri": "https://localhost:8080/"
        },
        "id": "99vt-r4QU6ER",
        "outputId": "7b15e797-1ed0-471b-cf9a-753f0ecefa29"
      },
      "execution_count": null,
      "outputs": [
        {
          "output_type": "execute_result",
          "data": {
            "text/plain": [
              "[1, 2, 3, 4, 5, 6, 7, 8, 9, 89]"
            ]
          },
          "metadata": {},
          "execution_count": 5
        }
      ]
    },
    {
      "cell_type": "markdown",
      "source": [
        "###3. Write a Python program to check if the given number is Happy Number?"
      ],
      "metadata": {
        "id": "TleCDbXaXJcm"
      }
    },
    {
      "cell_type": "code",
      "source": [
        "def is_Happy_num(n):\n",
        "  past = set()\n",
        "  while n != 1:\n",
        "        n = sum(int(i)**2 for i in str(n))\n",
        "        if n in past:\n",
        "            return False\n",
        "        past.add(n)\n",
        "  return True\n",
        "\n",
        "is_Happy_num(7)"
      ],
      "metadata": {
        "id": "_3GTIXuFWWOp",
        "colab": {
          "base_uri": "https://localhost:8080/"
        },
        "outputId": "ba01e984-ae33-41c0-b5ca-49dfb3e13b72"
      },
      "execution_count": 2,
      "outputs": [
        {
          "output_type": "execute_result",
          "data": {
            "text/plain": [
              "True"
            ]
          },
          "metadata": {},
          "execution_count": 2
        }
      ]
    },
    {
      "cell_type": "markdown",
      "source": [
        "### 4. Write a Python program to print all happy numbers between 1 and 100?"
      ],
      "metadata": {
        "id": "RWs336J05_83"
      }
    },
    {
      "cell_type": "code",
      "source": [
        "def happy_numbers(n):\n",
        "    past = set()\n",
        "    while n != 1:\n",
        "        n = sum(int(i)**2 for i in str(n))\n",
        "        if n in past:\n",
        "            return False\n",
        "        past.add(n)\n",
        "    return True\n",
        "print([x for x in range(101) if happy_numbers(x)])"
      ],
      "metadata": {
        "colab": {
          "base_uri": "https://localhost:8080/"
        },
        "id": "3wSh_BlT555_",
        "outputId": "aa84d332-d5f8-441b-f871-bfb6894d3644"
      },
      "execution_count": 6,
      "outputs": [
        {
          "output_type": "stream",
          "name": "stdout",
          "text": [
            "[1, 7, 10, 13, 19, 23, 28, 31, 32, 44, 49, 68, 70, 79, 82, 86, 91, 94, 97, 100]\n"
          ]
        }
      ]
    },
    {
      "cell_type": "markdown",
      "source": [
        "### 5. Write a Python program to determine whether the given number is a Harshad Number?"
      ],
      "metadata": {
        "id": "Km0j7j737p4x"
      }
    },
    {
      "cell_type": "code",
      "source": [
        "def is_harshad_num(n):\n",
        "  res = sum(int(i) for i in str(n))\n",
        "  if n % res == 0:\n",
        "    return True\n",
        "  else:\n",
        "    return False\n",
        "\n",
        "print(is_harshad_num(21))\n",
        "print(is_harshad_num(154))"
      ],
      "metadata": {
        "colab": {
          "base_uri": "https://localhost:8080/"
        },
        "id": "y0uJcwv87gQD",
        "outputId": "0f132a33-8fc4-4e83-b155-67f24b8b27de"
      },
      "execution_count": 9,
      "outputs": [
        {
          "output_type": "stream",
          "name": "stdout",
          "text": [
            "True\n",
            "False\n"
          ]
        }
      ]
    },
    {
      "cell_type": "markdown",
      "source": [
        "### 6. Write a Python program to print all pronic numbers between 1 and 100?"
      ],
      "metadata": {
        "id": "zBAzsmCM9Xyh"
      }
    },
    {
      "cell_type": "code",
      "source": [
        "def is_pronic(n):\n",
        "  f = 0\n",
        "  for i in range(n+1):\n",
        "      if i * (i + 1) == n:\n",
        "          f = 1\n",
        "          break\n",
        "\n",
        "  if f==1:\n",
        "      return True\n",
        "  else:\n",
        "      return False\n",
        "\n",
        "print([x for x in range(101) if is_pronic(x)])"
      ],
      "metadata": {
        "colab": {
          "base_uri": "https://localhost:8080/"
        },
        "id": "n803xOam9BOK",
        "outputId": "c31090cf-f5ab-4150-e688-530162953439"
      },
      "execution_count": 11,
      "outputs": [
        {
          "output_type": "stream",
          "name": "stdout",
          "text": [
            "[0, 2, 6, 12, 20, 30, 42, 56, 72, 90]\n"
          ]
        }
      ]
    }
  ]
}