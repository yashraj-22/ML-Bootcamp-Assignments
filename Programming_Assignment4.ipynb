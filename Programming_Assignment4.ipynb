{
  "nbformat": 4,
  "nbformat_minor": 0,
  "metadata": {
    "colab": {
      "provenance": [],
      "authorship_tag": "ABX9TyPhp2PhO31kJaLCY7rly3dH",
      "include_colab_link": true
    },
    "kernelspec": {
      "name": "python3",
      "display_name": "Python 3"
    },
    "language_info": {
      "name": "python"
    }
  },
  "cells": [
    {
      "cell_type": "markdown",
      "metadata": {
        "id": "view-in-github",
        "colab_type": "text"
      },
      "source": [
        "<a href=\"https://colab.research.google.com/github/yashraj-22/ML-Bootcamp-Assignments/blob/main/Programming_Assignment4.ipynb\" target=\"_parent\"><img src=\"https://colab.research.google.com/assets/colab-badge.svg\" alt=\"Open In Colab\"/></a>"
      ]
    },
    {
      "cell_type": "markdown",
      "source": [
        "###1. Write a Python Program to Find the Factorial of a Number?"
      ],
      "metadata": {
        "id": "5CRMXtmihOD1"
      }
    },
    {
      "cell_type": "code",
      "source": [
        "num = int(input('Enter the number:'))\n",
        "\n",
        "if num == 0 or num == 1:\n",
        "  print('The factorial is 1')\n",
        "else:\n",
        "  fact = 1\n",
        "  for i in range(1,num+1):\n",
        "    fact = fact*i\n",
        "  print('The factorial of',num,'is',fact)"
      ],
      "metadata": {
        "colab": {
          "base_uri": "https://localhost:8080/"
        },
        "id": "KRvRo1pkhSKg",
        "outputId": "cdfc60c4-1ad0-4edf-9754-dc4917829892"
      },
      "execution_count": 1,
      "outputs": [
        {
          "output_type": "stream",
          "name": "stdout",
          "text": [
            "Enter the number:5\n",
            "The factorial of 5 is 120\n"
          ]
        }
      ]
    },
    {
      "cell_type": "markdown",
      "source": [
        "###2. Write a Python Program to Display the multiplication Table?"
      ],
      "metadata": {
        "id": "uppYb020jIMX"
      }
    },
    {
      "cell_type": "code",
      "source": [
        "num = int(input('Enter the number:'))    # the number for which we want the table\n",
        "limit = int(input('Enter the limit:'))   # up to which point do we want the table\n",
        "\n",
        "for i in range(1,limit+1):\n",
        "  value = num * i\n",
        "  print(num,'*',i,'=',value)"
      ],
      "metadata": {
        "colab": {
          "base_uri": "https://localhost:8080/"
        },
        "id": "cqAVBz19i32i",
        "outputId": "65456b2a-6ded-4422-b637-1f02c170f46d"
      },
      "execution_count": 2,
      "outputs": [
        {
          "output_type": "stream",
          "name": "stdout",
          "text": [
            "Enter the number:2\n",
            "Enter the limit:10\n",
            "2 * 1 = 2\n",
            "2 * 2 = 4\n",
            "2 * 3 = 6\n",
            "2 * 4 = 8\n",
            "2 * 5 = 10\n",
            "2 * 6 = 12\n",
            "2 * 7 = 14\n",
            "2 * 8 = 16\n",
            "2 * 9 = 18\n",
            "2 * 10 = 20\n"
          ]
        }
      ]
    },
    {
      "cell_type": "markdown",
      "source": [
        "###3. Write a Python Program to Print the Fibonacci sequence?"
      ],
      "metadata": {
        "id": "LOwCiuSClA1d"
      }
    },
    {
      "cell_type": "code",
      "source": [
        "n = int(input('Enter the value of n:'))   # represents the first n terms of the fibonacci sequence\n",
        "\n",
        "a = 0\n",
        "b = 1\n",
        "fib_list = [a,b]\n",
        "for i in range(n):\n",
        "  c = a + b\n",
        "  fib_list.append(c)\n",
        "  a = b\n",
        "  b = c\n",
        "print(fib_list)"
      ],
      "metadata": {
        "colab": {
          "base_uri": "https://localhost:8080/"
        },
        "id": "wCuxlk8RkUTC",
        "outputId": "5c30532d-6392-4e49-b0be-9dc2932e84b4"
      },
      "execution_count": 3,
      "outputs": [
        {
          "output_type": "stream",
          "name": "stdout",
          "text": [
            "Enter the value of n:10\n",
            "[0, 1, 1, 2, 3, 5, 8, 13, 21, 34, 55, 89]\n"
          ]
        }
      ]
    },
    {
      "cell_type": "markdown",
      "source": [
        "###4. Write a Python Program to Check Armstrong Number?"
      ],
      "metadata": {
        "id": "WqAtyffWu8L1"
      }
    },
    {
      "cell_type": "code",
      "source": [
        "num = int(input('Enter the number: '))\n",
        "\n",
        "res = list(map(int, str(num)))\n",
        "l = len(res)\n",
        "sum = 0\n",
        "\n",
        "for i in range(l):\n",
        "  sum += res[i]**l\n",
        "\n",
        "if sum == num:\n",
        "  print('The number is an Armstrong number.')\n",
        "else:\n",
        "  print('The number is not an Armstrong number.')"
      ],
      "metadata": {
        "colab": {
          "base_uri": "https://localhost:8080/"
        },
        "id": "_U4G7HQUuxDj",
        "outputId": "7af9b16d-d29a-4294-d173-d5fa552af210"
      },
      "execution_count": 5,
      "outputs": [
        {
          "output_type": "stream",
          "name": "stdout",
          "text": [
            "Enter the number: 153\n",
            "The number is an Armstrong number.\n"
          ]
        }
      ]
    },
    {
      "cell_type": "markdown",
      "source": [
        "###5. Write a Python Program to Find Armstrong Number in an Interval?"
      ],
      "metadata": {
        "id": "N2GICK3rx1Mr"
      }
    },
    {
      "cell_type": "code",
      "source": [
        "lower = int(input('Enter the lower limt: '))\n",
        "upper = int(input('Enter the upper limit: '))\n",
        "\n",
        "num_list = []\n",
        "for i in range(lower,upper+1):\n",
        "  res = list(map(int, str(i)))\n",
        "  l = len(res)\n",
        "  sum = 0\n",
        "\n",
        "  for j in range(l):\n",
        "    sum += res[j]**l\n",
        "\n",
        "  if sum == i:\n",
        "    num_list.append(i)\n",
        "print(num_list)"
      ],
      "metadata": {
        "colab": {
          "base_uri": "https://localhost:8080/"
        },
        "id": "28ArvNz6xhSk",
        "outputId": "889f75cc-301b-47de-8cd3-fe5a66ab7cee"
      },
      "execution_count": 6,
      "outputs": [
        {
          "output_type": "stream",
          "name": "stdout",
          "text": [
            "Enter the lower limt: 100\n",
            "Enter the upper limit: 999\n",
            "[153, 370, 371, 407]\n"
          ]
        }
      ]
    },
    {
      "cell_type": "markdown",
      "source": [
        "###6. Write a Python Program to Find the Sum of Natural Numbers?"
      ],
      "metadata": {
        "id": "o-nx1G4xzybC"
      }
    },
    {
      "cell_type": "code",
      "source": [
        "lower = int(input('Enter the lower limt: '))\n",
        "upper = int(input('Enter the upper limit: '))\n",
        "\n",
        "sum = 0\n",
        "for i in range(lower,upper+1):\n",
        "  sum += i\n",
        "print('Sum of natural numbers is',sum)"
      ],
      "metadata": {
        "colab": {
          "base_uri": "https://localhost:8080/"
        },
        "id": "b-q-suEWz3wO",
        "outputId": "ed318b87-7e6d-4e84-e020-3915fc433376"
      },
      "execution_count": 8,
      "outputs": [
        {
          "output_type": "stream",
          "name": "stdout",
          "text": [
            "Enter the lower limt: 1\n",
            "Enter the upper limit: 100\n",
            "Sum of natural numbers is 5050\n"
          ]
        }
      ]
    }
  ]
}